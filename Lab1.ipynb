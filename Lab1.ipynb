{
 "cells": [
  {
   "cell_type": "markdown",
   "metadata": {},
   "source": [
    "# INDEX\n",
    "\n",
    "- [Initialization](#INITIALIZATION)\n",
    "    - [Imports](#IMPORTS)\n",
    "    - [Data Generation](#DATA-GENERATION)\n",
    "    - [Connection to MongoDB](#CONNECTION-TO-MONGODB)\n",
    "\n",
    "- [Models](#MODELS)\n",
    "    - [Model M1](#Model-M1:-Separate-Persons-and-Companies-but-linked-by-references)\n",
    "    - [Model M2](#Model-M2:-Person-Documents-with-Embedded-Company-Information)\n",
    "    - [Model M3](#Model-M3:-Company-Documents-with-Embedded-Person-Information)\n",
    "\n",
    "- [Queries](#QUERIES)\n",
    "    - [Queries for Model M1](#Queries-and-Times-for-Model-M1)\n",
    "    - [Queries for Model M2](#Queries-and-Times-for-Model-M2)\n",
    "    - [Queries for Model M3](#Queries-and-Times-for-Model-M3)\n",
    "\n",
    "- [Results and Discussion](#RESULTS-AND-DISCUSSION)\n",
    "    - [Query Execution Times Table](#Query-Execution-Times-per-Model)\n",
    "    - [Performance Evaluation and Discussion](#Performance-Evaluation-and-Discussion)"
   ]
  },
  {
   "cell_type": "markdown",
   "metadata": {},
   "source": [
    "# INITIALIZATION"
   ]
  },
  {
   "cell_type": "markdown",
   "metadata": {},
   "source": [
    "[Back to Index](#INDEX)"
   ]
  },
  {
   "cell_type": "markdown",
   "metadata": {},
   "source": [
    "## Imports"
   ]
  },
  {
   "cell_type": "markdown",
   "metadata": {},
   "source": [
    "[Back to Index](#INDEX)"
   ]
  },
  {
   "cell_type": "code",
   "execution_count": 181,
   "metadata": {},
   "outputs": [],
   "source": [
    "from faker import Faker\n",
    "import random\n",
    "import time\n",
    "from pymongo import MongoClient\n",
    "import datetime"
   ]
  },
  {
   "cell_type": "markdown",
   "metadata": {},
   "source": [
    "## Data Generation"
   ]
  },
  {
   "cell_type": "markdown",
   "metadata": {},
   "source": [
    "[Back to Index](#INDEX)"
   ]
  },
  {
   "cell_type": "code",
   "execution_count": 182,
   "metadata": {},
   "outputs": [],
   "source": [
    "fake = Faker()\n",
    "random.seed(98)\n",
    "Faker.seed(98)\n",
    "\n",
    "def calculate_age(birthdate, reference_date):\n",
    "    \"\"\" Calculate age based on the birthdate and a reference date \"\"\"\n",
    "    return reference_date.year - birthdate.year - ((reference_date.month, reference_date.day) < (birthdate.month, birthdate.day))\n",
    "\n",
    "def generate_persons(n):\n",
    "    \"\"\" Generate data for n persons with complete details, calculating age from birthdate \"\"\"\n",
    "    persons = []\n",
    "    reference_date = datetime.date(2024, 5, 4)\n",
    "    for _ in range(n):\n",
    "        full_name = fake.name()\n",
    "        first_name = full_name.split()[0]\n",
    "        birthdate = fake.date_of_birth(minimum_age=18, maximum_age=70)\n",
    "        age = calculate_age(birthdate, reference_date)\n",
    "        person = {\n",
    "            'first_name': first_name,\n",
    "            'name': full_name,\n",
    "            'birthdate': birthdate.isoformat(),\n",
    "            'age': age,\n",
    "            'email': fake.email(),\n",
    "            'company_email': first_name.lower() + '@' + fake.domain_name(),\n",
    "            'sex': fake.random_element(elements=('Male', 'Female', 'Other'))\n",
    "        }\n",
    "        persons.append(person)\n",
    "    return persons\n",
    "\n",
    "def generate_companies(n):\n",
    "    \"\"\" Generate data for n companies with specified details \"\"\"\n",
    "    companies = []\n",
    "    for _ in range(n):\n",
    "        company_name = fake.company()\n",
    "        domain = fake.domain_name()\n",
    "        company = {\n",
    "            'name': company_name,\n",
    "            'email': 'info@' + domain,\n",
    "            'web_domain': domain,\n",
    "            'url': 'http://' + domain,\n",
    "            'vat_number': fake.bothify(text='??#########'),\n",
    "            'employees': []\n",
    "        }\n",
    "        companies.append(company)\n",
    "    return companies"
   ]
  },
  {
   "cell_type": "code",
   "execution_count": 183,
   "metadata": {},
   "outputs": [],
   "source": [
    "''' We constrain the number of employees to be between 30 and 100 for each company.'''\n",
    "\n",
    "def assign_employees_to_companies(persons, companies, min_employees = 30, max_employees = 100):\n",
    "    \"\"\" Assign persons to companies, ensuring each has a realistic number of employees \"\"\"\n",
    "    employee_idx = 0\n",
    "    for company in companies:\n",
    "        num_employees = random.randint(min_employees, max_employees)\n",
    "        if employee_idx + num_employees > len(persons):\n",
    "            num_employees = len(persons) - employee_idx \n",
    "        company['employees'].extend(persons[employee_idx:employee_idx + num_employees])\n",
    "        employee_idx += num_employees\n",
    "        if employee_idx >= len(persons):\n",
    "            break\n",
    "\n",
    "''' We set the model to generate 100k persons and 2k companies in order to ensure having more than 50k documents. '''\n",
    "num_persons = 100000\n",
    "num_companies = 2000\n",
    "\n",
    "persons = generate_persons(num_persons)\n",
    "companies = generate_companies(num_companies)\n",
    "\n",
    "assign_employees_to_companies(persons, companies)\n",
    "\n",
    "# display(persons[0])\n",
    "# display(companies[0])"
   ]
  },
  {
   "cell_type": "markdown",
   "metadata": {},
   "source": [
    "## Connect to MongoDB"
   ]
  },
  {
   "cell_type": "markdown",
   "metadata": {},
   "source": [
    "[Back to Index](#INDEX)"
   ]
  },
  {
   "cell_type": "code",
   "execution_count": 184,
   "metadata": {},
   "outputs": [],
   "source": [
    "client = MongoClient('localhost', 27017) \n",
    "\n",
    "db = client['lab1_database']"
   ]
  },
  {
   "cell_type": "markdown",
   "metadata": {},
   "source": [
    "## \n",
    "[Back to Index](#INDEX)"
   ]
  },
  {
   "cell_type": "markdown",
   "metadata": {},
   "source": [
    "# MODELS"
   ]
  },
  {
   "cell_type": "markdown",
   "metadata": {},
   "source": [
    "[Back to Index](#INDEX)"
   ]
  },
  {
   "cell_type": "markdown",
   "metadata": {},
   "source": [
    "## Model M1: Separate Persons and Companies but linked by references"
   ]
  },
  {
   "cell_type": "markdown",
   "metadata": {},
   "source": [
    "[Back to Index](#INDEX)"
   ]
  },
  {
   "cell_type": "code",
   "execution_count": 185,
   "metadata": {},
   "outputs": [],
   "source": [
    "db_m1 = client['lab1_database']\n",
    "\n",
    "persons_collection = db_m1['persons_m1']\n",
    "companies_collection = db_m1['companies_m1']\n",
    "\n",
    "# display(persons_collection.count_documents({}))\n",
    "\n",
    "# Clean existing data to ensure that we start from scratch\n",
    "persons_collection.delete_many({})\n",
    "companies_collection.delete_many({})\n",
    "\n",
    "# display(persons_collection.count_documents({}))\n",
    "\n",
    "# Insert M1 data\n",
    "for company in companies:\n",
    "    company_data = {\n",
    "        'name': company['name'],\n",
    "        'email': company['email'],\n",
    "        'web_domain': company['web_domain'],\n",
    "        'url': company['url'],\n",
    "        'vat_number': company['vat_number']\n",
    "        }\n",
    "    company_id = companies_collection.insert_one(company_data).inserted_id\n",
    "    for employee in company['employees']:\n",
    "        employee_data = {\n",
    "            'company_id': company_id,\n",
    "            'first_name': employee['first_name'],\n",
    "            'name': employee['name'],\n",
    "            'birthdate': employee['birthdate'],\n",
    "            'age': employee['age'],\n",
    "            'email': employee['email'],\n",
    "            'company_email': employee['company_email'],\n",
    "            'sex': employee['sex']\n",
    "            }\n",
    "        persons_collection.insert_one(employee_data)\n",
    "\n",
    "# display(persons_collection.count_documents({}))"
   ]
  },
  {
   "cell_type": "markdown",
   "metadata": {},
   "source": [
    "## Model M2: Person Documents with Embedded Company Information"
   ]
  },
  {
   "cell_type": "markdown",
   "metadata": {},
   "source": [
    "[Back to Index](#INDEX)"
   ]
  },
  {
   "cell_type": "code",
   "execution_count": 186,
   "metadata": {},
   "outputs": [],
   "source": [
    "db_m2 = client['lab1_database']\n",
    "\n",
    "persons_with_companies_m2 = db_m2['persons_with_companies_m2']\n",
    "\n",
    "# Clean existing data to ensure that we start from scratch\n",
    "persons_with_companies_m2.delete_many({})\n",
    "\n",
    "for company in companies:\n",
    "    for person in company['employees']:\n",
    "        person_with_company = {\n",
    "            'first_name': person['first_name'],\n",
    "            'name': person['name'],\n",
    "            'birthdate': person['birthdate'],\n",
    "            'age': person['age'],\n",
    "            'email': person['email'],\n",
    "            'company_email': person['company_email'],\n",
    "            'sex': person['sex'],\n",
    "            'company': {\n",
    "                'name': company['name'],\n",
    "                'email': company['email'],\n",
    "                'web_domain': company['web_domain'],\n",
    "                'url': company['url'],\n",
    "                'vat_number': company['vat_number']\n",
    "                }\n",
    "        }\n",
    "        persons_with_companies_m2.insert_one(person_with_company)"
   ]
  },
  {
   "cell_type": "markdown",
   "metadata": {},
   "source": [
    "## Model M3: Company Documents with Embedded Person Information\n"
   ]
  },
  {
   "cell_type": "markdown",
   "metadata": {},
   "source": [
    "[Back to Index](#INDEX)"
   ]
  },
  {
   "cell_type": "code",
   "execution_count": 187,
   "metadata": {},
   "outputs": [],
   "source": [
    "db_m3 = client['lab1_database']\n",
    "\n",
    "companies_with_persons_m3 = db_m3['companies_with_persons_m3']\n",
    "\n",
    "# Clean existing data to ensure that we start from scratch\n",
    "companies_with_persons_m3.delete_many({})\n",
    "\n",
    "for company in companies:\n",
    "    company_doc = {\n",
    "        'name': company['name'],\n",
    "        'email': company['email'],\n",
    "        'web_domain': company['web_domain'],\n",
    "        'url': company['url'],\n",
    "        'vat_number': company['vat_number'],\n",
    "        'employees': company['employees']\n",
    "    }\n",
    "    companies_with_persons_m3.insert_one(company_doc)"
   ]
  },
  {
   "cell_type": "markdown",
   "metadata": {},
   "source": [
    "##\n",
    "[Back to Index](#INDEX)"
   ]
  },
  {
   "cell_type": "markdown",
   "metadata": {},
   "source": [
    "# QUERIES"
   ]
  },
  {
   "cell_type": "markdown",
   "metadata": {},
   "source": [
    "[Back to Index](#INDEX)"
   ]
  },
  {
   "cell_type": "markdown",
   "metadata": {},
   "source": [
    "## Queries and Times for Model M1"
   ]
  },
  {
   "cell_type": "markdown",
   "metadata": {},
   "source": [
    "[Back to Index](#INDEX)"
   ]
  },
  {
   "cell_type": "code",
   "execution_count": 188,
   "metadata": {},
   "outputs": [],
   "source": [
    "# Connect to the collection for Model M1\n",
    "persons_m1 = db['persons_m1']\n",
    "companies_m1 = db['companies_m1']"
   ]
  },
  {
   "cell_type": "code",
   "execution_count": 189,
   "metadata": {},
   "outputs": [
    {
     "name": "stdout",
     "output_type": "stream",
     "text": [
      "Person: Ronald Gomez, Company: Huang, Horn and Casey\n",
      "Person: Renee Wolf, Company: Huang, Horn and Casey\n",
      "Person: Kimberly Powell, Company: Huang, Horn and Casey\n",
      "Person: Stanley Ingram, Company: Huang, Horn and Casey\n",
      "Person: Kelsey Watson, Company: Huang, Horn and Casey\n",
      "Person: Ryan Owens, Company: Huang, Horn and Casey\n",
      "Person: Matthew Smith, Company: Huang, Horn and Casey\n",
      "Person: Yvonne Jensen, Company: Huang, Horn and Casey\n",
      "Person: Paul Jenkins, Company: Huang, Horn and Casey\n",
      "Person: Patrick Howard, Company: Huang, Horn and Casey\n"
     ]
    }
   ],
   "source": [
    "# Q1: For each person, retrieve their full name and their company’s name.\n",
    "persons_results_m1 = []\n",
    "\n",
    "start_time_q1 = time.time()\n",
    "for person in persons_m1.find():\n",
    "    company = companies_m1.find_one({'_id': person['company_id']})\n",
    "    # print(f\"Person: {person['name']}, Company: {company['name']}\")\n",
    "    persons_results_m1.append(f\"Person: {person['name']}, Company: {company['name']}\")\n",
    "end_time_q1 = time.time()\n",
    "\n",
    "for person in persons_results_m1[:10]:\n",
    "    print(person)"
   ]
  },
  {
   "cell_type": "code",
   "execution_count": 190,
   "metadata": {},
   "outputs": [
    {
     "name": "stdout",
     "output_type": "stream",
     "text": [
      "Company: Huang, Horn and Casey, Number of Employees: 75\n",
      "Company: Moran PLC, Number of Employees: 35\n",
      "Company: Stuart LLC, Number of Employees: 75\n",
      "Company: Garcia-Williams, Number of Employees: 83\n",
      "Company: Kennedy-Harvey, Number of Employees: 37\n",
      "Company: Lewis, Holland and Bailey, Number of Employees: 90\n",
      "Company: Sharp, Gibson and Lewis, Number of Employees: 66\n",
      "Company: Harris-Jenkins, Number of Employees: 38\n",
      "Company: Schneider Inc, Number of Employees: 93\n",
      "Company: Thompson-Peters, Number of Employees: 55\n"
     ]
    }
   ],
   "source": [
    "# Q2: For each company, retrieve its name and the number of employees.\n",
    "company_results_m1 = []\n",
    "\n",
    "start_time_q2 = time.time()\n",
    "for company in companies_m1.find():\n",
    "    employee_count = persons_m1.count_documents({'company_id': company['_id']})\n",
    "    # print(f\"Company: {company['name']}, Number of Employees: {employee_count}\")\n",
    "    company_results_m1.append(f\"Company: {company['name']}, Number of Employees: {employee_count}\")\n",
    "end_time_q2 = time.time()\n",
    "\n",
    "for company in company_results_m1[:10]:\n",
    "    print(company)"
   ]
  },
  {
   "cell_type": "code",
   "execution_count": 191,
   "metadata": {},
   "outputs": [
    {
     "name": "stdout",
     "output_type": "stream",
     "text": [
      "{'_id': ObjectId('6637f960264ae30efff83ac3'), 'company_id': ObjectId('6637f960264ae30efff83abf'), 'first_name': 'Stanley', 'name': 'Stanley Ingram', 'birthdate': '1997-02-24', 'age': 27, 'email': 'marieedwards@example.org', 'company_email': 'stanley@phillips.com', 'sex': 'Female'}\n",
      "{'_id': ObjectId('6637f960264ae30efff83ac4'), 'company_id': ObjectId('6637f960264ae30efff83abf'), 'first_name': 'Kelsey', 'name': 'Kelsey Watson', 'birthdate': '1988-07-11', 'age': 35, 'email': 'danielsmonica@example.org', 'company_email': 'kelsey@turner-lewis.com', 'sex': 'Male'}\n",
      "{'_id': ObjectId('6637f960264ae30efff83ac8'), 'company_id': ObjectId('6637f960264ae30efff83abf'), 'first_name': 'Paul', 'name': 'Paul Jenkins', 'birthdate': '1997-11-08', 'age': 26, 'email': 'creyes@example.net', 'company_email': 'paul@johnson.com', 'sex': 'Other'}\n",
      "{'_id': ObjectId('6637f960264ae30efff83acc'), 'company_id': ObjectId('6637f960264ae30efff83abf'), 'first_name': 'Michele', 'name': 'Michele Schmidt', 'birthdate': '2005-07-23', 'age': 18, 'email': 'garciadevon@example.com', 'company_email': 'michele@haynes-hodges.net', 'sex': 'Male'}\n",
      "{'_id': ObjectId('6637f960264ae30efff83ace'), 'company_id': ObjectId('6637f960264ae30efff83abf'), 'first_name': 'Ryan', 'name': 'Ryan Johnson', 'birthdate': '1991-12-04', 'age': 32, 'email': 'donaldhernandez@example.com', 'company_email': 'ryan@white-ramos.biz', 'sex': 'Female'}\n",
      "{'_id': ObjectId('6637f960264ae30efff83adf'), 'company_id': ObjectId('6637f960264ae30efff83abf'), 'first_name': 'Frank', 'name': 'Frank Castillo', 'birthdate': '2003-06-29', 'age': 20, 'email': 'charlesthornton@example.org', 'company_email': 'frank@carroll.com', 'sex': 'Male'}\n",
      "{'_id': ObjectId('6637f960264ae30efff83ae1'), 'company_id': ObjectId('6637f960264ae30efff83abf'), 'first_name': 'Rachel', 'name': 'Rachel Robinson', 'birthdate': '1991-11-28', 'age': 32, 'email': 'zzavala@example.net', 'company_email': 'rachel@simmons.net', 'sex': 'Female'}\n",
      "{'_id': ObjectId('6637f960264ae30efff83ae7'), 'company_id': ObjectId('6637f960264ae30efff83abf'), 'first_name': 'John', 'name': 'John Flores', 'birthdate': '1993-08-01', 'age': 30, 'email': 'christineschmidt@example.com', 'company_email': 'john@decker.com', 'sex': 'Female'}\n",
      "{'_id': ObjectId('6637f960264ae30efff83ae9'), 'company_id': ObjectId('6637f960264ae30efff83abf'), 'first_name': 'Amanda', 'name': 'Amanda Davis', 'birthdate': '1995-01-14', 'age': 29, 'email': 'williambyrd@example.org', 'company_email': 'amanda@gomez-ross.com', 'sex': 'Male'}\n",
      "{'_id': ObjectId('6637f960264ae30efff83aeb'), 'company_id': ObjectId('6637f960264ae30efff83abf'), 'first_name': 'Bobby', 'name': 'Bobby Atkinson', 'birthdate': '1991-05-09', 'age': 32, 'email': 'amanda37@example.org', 'company_email': 'bobby@king.net', 'sex': 'Female'}\n"
     ]
    }
   ],
   "source": [
    "# Q3: For each person born before 1988, update their age to “30”.\n",
    "start_time_q3 = time.time()\n",
    "persons_m1.update_many({'birthdate': {'$lt': '1988-01-01'}}, {'$set': {'age': 30}})\n",
    "end_time_q3 = time.time()\n",
    "\n",
    "for person in persons_m1.find({'birthdate': {'$gte': '1987-01-01'}}).limit(10):\n",
    "    print(person)"
   ]
  },
  {
   "cell_type": "code",
   "execution_count": 192,
   "metadata": {},
   "outputs": [
    {
     "name": "stdout",
     "output_type": "stream",
     "text": [
      "Huang, Horn and Casey Company\n",
      "Moran PLC Company\n",
      "Stuart LLC Company\n",
      "Garcia-Williams Company\n",
      "Kennedy-Harvey Company\n",
      "Lewis, Holland and Bailey Company\n",
      "Sharp, Gibson and Lewis Company\n",
      "Harris-Jenkins Company\n",
      "Schneider Inc Company\n",
      "Thompson-Peters Company\n"
     ]
    }
   ],
   "source": [
    "# Q4: For each company, update its name to include the word “Company”.\n",
    "start_time_q4 = time.time()\n",
    "companies_m1.update_many({}, [{'$set': {'name': {'$concat': ['$name', ' Company']}}}])\n",
    "end_time_q4 = time.time()\n",
    "\n",
    "for company in companies_m1.find().limit(10):\n",
    "    print(company['name'])"
   ]
  },
  {
   "cell_type": "code",
   "execution_count": 193,
   "metadata": {},
   "outputs": [
    {
     "name": "stdout",
     "output_type": "stream",
     "text": [
      "Query Q1 execution time (M1): 10.417908906936646 seconds\n",
      "Query Q2 execution time (M1): 25.194710969924927 seconds\n",
      "Query Q3 execution time (M1): 0.37863683700561523 seconds\n",
      "Query Q4 execution time (M1): 0.01661396026611328 seconds\n"
     ]
    }
   ],
   "source": [
    "print(f\"Query Q1 execution time (M1): {end_time_q1 - start_time_q1} seconds\")\n",
    "print(f\"Query Q2 execution time (M1): {end_time_q2 - start_time_q2} seconds\")\n",
    "print(f\"Query Q3 execution time (M1): {end_time_q3 - start_time_q3} seconds\")\n",
    "print(f\"Query Q4 execution time (M1): {end_time_q4 - start_time_q4} seconds\")"
   ]
  },
  {
   "cell_type": "markdown",
   "metadata": {},
   "source": [
    "## Queries and Times for Model M2"
   ]
  },
  {
   "cell_type": "markdown",
   "metadata": {},
   "source": [
    "[Back to Index](#INDEX)"
   ]
  },
  {
   "cell_type": "code",
   "execution_count": 194,
   "metadata": {},
   "outputs": [],
   "source": [
    "# Connect to the collection for Model M2\n",
    "persons_with_companies_m2 = db['persons_with_companies_m2']"
   ]
  },
  {
   "cell_type": "code",
   "execution_count": 195,
   "metadata": {},
   "outputs": [
    {
     "name": "stdout",
     "output_type": "stream",
     "text": [
      "Person: Ronald Gomez, Company: Huang, Horn and Casey\n",
      "Person: Renee Wolf, Company: Huang, Horn and Casey\n",
      "Person: Kimberly Powell, Company: Huang, Horn and Casey\n",
      "Person: Stanley Ingram, Company: Huang, Horn and Casey\n",
      "Person: Kelsey Watson, Company: Huang, Horn and Casey\n",
      "Person: Ryan Owens, Company: Huang, Horn and Casey\n",
      "Person: Matthew Smith, Company: Huang, Horn and Casey\n",
      "Person: Yvonne Jensen, Company: Huang, Horn and Casey\n",
      "Person: Paul Jenkins, Company: Huang, Horn and Casey\n",
      "Person: Patrick Howard, Company: Huang, Horn and Casey\n"
     ]
    }
   ],
   "source": [
    "# Q1: For each person, retrieve their full name and their company’s name.\n",
    "persons_results_m2 = []\n",
    "\n",
    "start_time_q1 = time.time()\n",
    "for person in persons_with_companies_m2.find():\n",
    "    # print(f\"Person: {person['name']}, Company: {person['company']['name']}\")\n",
    "    persons_results_m2.append(f\"Person: {person['name']}, Company: {person['company']['name']}\")\n",
    "end_time_q1 = time.time()\n",
    "\n",
    "for person in persons_results_m2[:10]:\n",
    "    print(person)"
   ]
  },
  {
   "cell_type": "code",
   "execution_count": 196,
   "metadata": {},
   "outputs": [
    {
     "name": "stdout",
     "output_type": "stream",
     "text": [
      "Company: Schaefer-Moore, Number of Employees: 100\n",
      "Company: Carroll Inc, Number of Employees: 55\n",
      "Company: Fields, Young and Wilson, Number of Employees: 83\n",
      "Company: Allen-Reid, Number of Employees: 82\n",
      "Company: Fuller-Nichols, Number of Employees: 64\n",
      "Company: Stewart PLC, Number of Employees: 77\n",
      "Company: Blankenship Ltd, Number of Employees: 92\n",
      "Company: Weber, Jenkins and Taylor, Number of Employees: 45\n",
      "Company: Lester LLC, Number of Employees: 90\n",
      "Company: Sparks Inc, Number of Employees: 72\n"
     ]
    }
   ],
   "source": [
    "# Q2: For each company, retrieve its name and the number of employees.\n",
    "company_results_m2 = []\n",
    "\n",
    "start_time_q2 = time.time()\n",
    "pipeline = [\n",
    "    {\"$group\": {\"_id\": \"$company.name\", \"num_employees\": {\"$sum\": 1}}}\n",
    "]\n",
    "results = persons_with_companies_m2.aggregate(pipeline)\n",
    "for result in results:\n",
    "    # print(f\"Company: {result['_id']}, Number of Employees: {result['num_employees']}\")\n",
    "    company_results_m2.append(f\"Company: {result['_id']}, Number of Employees: {result['num_employees']}\")\n",
    "end_time_q2 = time.time()\n",
    "\n",
    "for company in company_results_m2[:10]:\n",
    "    print(company)"
   ]
  },
  {
   "cell_type": "code",
   "execution_count": 197,
   "metadata": {},
   "outputs": [
    {
     "name": "stdout",
     "output_type": "stream",
     "text": [
      "{'_id': ObjectId('6637f969264ae30efff9c932'), 'first_name': 'Stanley', 'name': 'Stanley Ingram', 'birthdate': '1997-02-24', 'age': 27, 'email': 'marieedwards@example.org', 'company_email': 'stanley@phillips.com', 'sex': 'Female', 'company': {'name': 'Huang, Horn and Casey', 'email': 'info@goodwin-wilson.com', 'web_domain': 'goodwin-wilson.com', 'url': 'http://goodwin-wilson.com', 'vat_number': 'xE025410621'}}\n",
      "{'_id': ObjectId('6637f969264ae30efff9c933'), 'first_name': 'Kelsey', 'name': 'Kelsey Watson', 'birthdate': '1988-07-11', 'age': 35, 'email': 'danielsmonica@example.org', 'company_email': 'kelsey@turner-lewis.com', 'sex': 'Male', 'company': {'name': 'Huang, Horn and Casey', 'email': 'info@goodwin-wilson.com', 'web_domain': 'goodwin-wilson.com', 'url': 'http://goodwin-wilson.com', 'vat_number': 'xE025410621'}}\n",
      "{'_id': ObjectId('6637f969264ae30efff9c937'), 'first_name': 'Paul', 'name': 'Paul Jenkins', 'birthdate': '1997-11-08', 'age': 26, 'email': 'creyes@example.net', 'company_email': 'paul@johnson.com', 'sex': 'Other', 'company': {'name': 'Huang, Horn and Casey', 'email': 'info@goodwin-wilson.com', 'web_domain': 'goodwin-wilson.com', 'url': 'http://goodwin-wilson.com', 'vat_number': 'xE025410621'}}\n",
      "{'_id': ObjectId('6637f969264ae30efff9c93b'), 'first_name': 'Michele', 'name': 'Michele Schmidt', 'birthdate': '2005-07-23', 'age': 18, 'email': 'garciadevon@example.com', 'company_email': 'michele@haynes-hodges.net', 'sex': 'Male', 'company': {'name': 'Huang, Horn and Casey', 'email': 'info@goodwin-wilson.com', 'web_domain': 'goodwin-wilson.com', 'url': 'http://goodwin-wilson.com', 'vat_number': 'xE025410621'}}\n",
      "{'_id': ObjectId('6637f969264ae30efff9c93d'), 'first_name': 'Ryan', 'name': 'Ryan Johnson', 'birthdate': '1991-12-04', 'age': 32, 'email': 'donaldhernandez@example.com', 'company_email': 'ryan@white-ramos.biz', 'sex': 'Female', 'company': {'name': 'Huang, Horn and Casey', 'email': 'info@goodwin-wilson.com', 'web_domain': 'goodwin-wilson.com', 'url': 'http://goodwin-wilson.com', 'vat_number': 'xE025410621'}}\n",
      "{'_id': ObjectId('6637f969264ae30efff9c94e'), 'first_name': 'Frank', 'name': 'Frank Castillo', 'birthdate': '2003-06-29', 'age': 20, 'email': 'charlesthornton@example.org', 'company_email': 'frank@carroll.com', 'sex': 'Male', 'company': {'name': 'Huang, Horn and Casey', 'email': 'info@goodwin-wilson.com', 'web_domain': 'goodwin-wilson.com', 'url': 'http://goodwin-wilson.com', 'vat_number': 'xE025410621'}}\n",
      "{'_id': ObjectId('6637f969264ae30efff9c950'), 'first_name': 'Rachel', 'name': 'Rachel Robinson', 'birthdate': '1991-11-28', 'age': 32, 'email': 'zzavala@example.net', 'company_email': 'rachel@simmons.net', 'sex': 'Female', 'company': {'name': 'Huang, Horn and Casey', 'email': 'info@goodwin-wilson.com', 'web_domain': 'goodwin-wilson.com', 'url': 'http://goodwin-wilson.com', 'vat_number': 'xE025410621'}}\n",
      "{'_id': ObjectId('6637f969264ae30efff9c956'), 'first_name': 'John', 'name': 'John Flores', 'birthdate': '1993-08-01', 'age': 30, 'email': 'christineschmidt@example.com', 'company_email': 'john@decker.com', 'sex': 'Female', 'company': {'name': 'Huang, Horn and Casey', 'email': 'info@goodwin-wilson.com', 'web_domain': 'goodwin-wilson.com', 'url': 'http://goodwin-wilson.com', 'vat_number': 'xE025410621'}}\n",
      "{'_id': ObjectId('6637f969264ae30efff9c958'), 'first_name': 'Amanda', 'name': 'Amanda Davis', 'birthdate': '1995-01-14', 'age': 29, 'email': 'williambyrd@example.org', 'company_email': 'amanda@gomez-ross.com', 'sex': 'Male', 'company': {'name': 'Huang, Horn and Casey', 'email': 'info@goodwin-wilson.com', 'web_domain': 'goodwin-wilson.com', 'url': 'http://goodwin-wilson.com', 'vat_number': 'xE025410621'}}\n",
      "{'_id': ObjectId('6637f969264ae30efff9c95a'), 'first_name': 'Bobby', 'name': 'Bobby Atkinson', 'birthdate': '1991-05-09', 'age': 32, 'email': 'amanda37@example.org', 'company_email': 'bobby@king.net', 'sex': 'Female', 'company': {'name': 'Huang, Horn and Casey', 'email': 'info@goodwin-wilson.com', 'web_domain': 'goodwin-wilson.com', 'url': 'http://goodwin-wilson.com', 'vat_number': 'xE025410621'}}\n"
     ]
    }
   ],
   "source": [
    "# Q3: For each person born before 1988, update their age to “30”.\n",
    "start_time_q3 = time.time()\n",
    "persons_with_companies_m2.update_many(\n",
    "    {\"birthdate\": {\"$lt\": \"1988-01-01\"}},\n",
    "    {\"$set\": {\"age\": 30}}\n",
    ")\n",
    "end_time_q3 = time.time()\n",
    "\n",
    "for person in persons_with_companies_m2.find({'birthdate': {'$gte': '1987-01-01'}}).limit(10):\n",
    "    print(person)"
   ]
  },
  {
   "cell_type": "code",
   "execution_count": 198,
   "metadata": {},
   "outputs": [
    {
     "name": "stdout",
     "output_type": "stream",
     "text": [
      "Huang, Horn and Casey Company\n",
      "Huang, Horn and Casey Company\n",
      "Huang, Horn and Casey Company\n",
      "Huang, Horn and Casey Company\n",
      "Huang, Horn and Casey Company\n",
      "Huang, Horn and Casey Company\n",
      "Huang, Horn and Casey Company\n",
      "Huang, Horn and Casey Company\n",
      "Huang, Horn and Casey Company\n",
      "Huang, Horn and Casey Company\n"
     ]
    }
   ],
   "source": [
    "# Q4: For each company embedded in persons, update its name to include the word “Company”.\n",
    "start_time_q4 = time.time()\n",
    "persons_with_companies_m2.update_many(\n",
    "    {},\n",
    "    [{'$set': {'company.name': {'$concat': ['$company.name', ' Company']}}}]\n",
    ")\n",
    "end_time_q4 = time.time()\n",
    "\n",
    "for person in persons_with_companies_m2.find().limit(10):\n",
    "    print(person['company']['name'])"
   ]
  },
  {
   "cell_type": "code",
   "execution_count": 199,
   "metadata": {},
   "outputs": [
    {
     "name": "stdout",
     "output_type": "stream",
     "text": [
      "Query Q1 execution time (M2): 0.4828310012817383 seconds\n",
      "Query Q2 execution time (M2): 0.062248945236206055 seconds\n",
      "Query Q3 execution time (M2): 0.3370811939239502 seconds\n",
      "Query Q4 execution time (M2): 0.9005098342895508 seconds\n"
     ]
    }
   ],
   "source": [
    "print(f\"Query Q1 execution time (M2): {end_time_q1 - start_time_q1} seconds\")\n",
    "print(f\"Query Q2 execution time (M2): {end_time_q2 - start_time_q2} seconds\")\n",
    "print(f\"Query Q3 execution time (M2): {end_time_q3 - start_time_q3} seconds\")\n",
    "print(f\"Query Q4 execution time (M2): {end_time_q4 - start_time_q4} seconds\")"
   ]
  },
  {
   "cell_type": "markdown",
   "metadata": {},
   "source": [
    "## Queries and Times for Model M3"
   ]
  },
  {
   "cell_type": "markdown",
   "metadata": {},
   "source": [
    "[Back to Index](#INDEX)"
   ]
  },
  {
   "cell_type": "code",
   "execution_count": 200,
   "metadata": {},
   "outputs": [],
   "source": [
    "# Connect to the collection for Model M3\n",
    "companies_with_persons_m3 = db['companies_with_persons_m3']"
   ]
  },
  {
   "cell_type": "code",
   "execution_count": 201,
   "metadata": {},
   "outputs": [
    {
     "name": "stdout",
     "output_type": "stream",
     "text": [
      "Person: Ronald Gomez, Company: Huang, Horn and Casey\n",
      "Person: Renee Wolf, Company: Huang, Horn and Casey\n",
      "Person: Kimberly Powell, Company: Huang, Horn and Casey\n",
      "Person: Stanley Ingram, Company: Huang, Horn and Casey\n",
      "Person: Kelsey Watson, Company: Huang, Horn and Casey\n",
      "Person: Ryan Owens, Company: Huang, Horn and Casey\n",
      "Person: Matthew Smith, Company: Huang, Horn and Casey\n",
      "Person: Yvonne Jensen, Company: Huang, Horn and Casey\n",
      "Person: Paul Jenkins, Company: Huang, Horn and Casey\n",
      "Person: Patrick Howard, Company: Huang, Horn and Casey\n"
     ]
    }
   ],
   "source": [
    "# Q1: For each person, retrieve their full name and their company’s name.\n",
    "persons_results_m3 = []\n",
    "\n",
    "start_time_q1 = time.time()\n",
    "for company in companies_with_persons_m3.find():\n",
    "    company_name = company['name']\n",
    "    for person in company['employees']:\n",
    "        # print(f\"Person: {person['name']}, Company: {company_name}\")\n",
    "        persons_results_m3.append(f\"Person: {person['name']}, Company: {company_name}\")\n",
    "end_time_q1 = time.time()\n",
    "\n",
    "for person in persons_results_m3[:10]:\n",
    "    print(person)"
   ]
  },
  {
   "cell_type": "code",
   "execution_count": 202,
   "metadata": {},
   "outputs": [
    {
     "name": "stdout",
     "output_type": "stream",
     "text": [
      "Company: Huang, Horn and Casey, Number of Employees: 75\n",
      "Company: Moran PLC, Number of Employees: 35\n",
      "Company: Stuart LLC, Number of Employees: 75\n",
      "Company: Garcia-Williams, Number of Employees: 83\n",
      "Company: Kennedy-Harvey, Number of Employees: 37\n",
      "Company: Lewis, Holland and Bailey, Number of Employees: 90\n",
      "Company: Sharp, Gibson and Lewis, Number of Employees: 66\n",
      "Company: Harris-Jenkins, Number of Employees: 38\n",
      "Company: Schneider Inc, Number of Employees: 93\n",
      "Company: Thompson-Peters, Number of Employees: 55\n"
     ]
    }
   ],
   "source": [
    "# Q2: For each company, retrieve its name and the number of employees.\n",
    "company_results_m3 = []\n",
    "\n",
    "start_time_q2 = time.time()\n",
    "for company in companies_with_persons_m3.find():\n",
    "    employee_count = len(company['employees'])\n",
    "    # print(f\"Company: {company['name']}, Number of Employees: {employee_count}\")\n",
    "    company_results_m3.append(f\"Company: {company['name']}, Number of Employees: {employee_count}\")\n",
    "end_time_q2 = time.time()\n",
    "\n",
    "for company in company_results_m3[:10]:\n",
    "    print(company)"
   ]
  },
  {
   "cell_type": "code",
   "execution_count": 203,
   "metadata": {},
   "outputs": [
    {
     "name": "stdout",
     "output_type": "stream",
     "text": [
      "{'_id': ObjectId('6637f972264ae30efffb4fcf'), 'name': 'Huang, Horn and Casey', 'email': 'info@goodwin-wilson.com', 'web_domain': 'goodwin-wilson.com', 'url': 'http://goodwin-wilson.com', 'vat_number': 'xE025410621', 'employees': {'first_name': 'Stanley', 'name': 'Stanley Ingram', 'birthdate': '1997-02-24', 'age': 27, 'email': 'marieedwards@example.org', 'company_email': 'stanley@phillips.com', 'sex': 'Female'}}\n",
      "{'_id': ObjectId('6637f972264ae30efffb4fcf'), 'name': 'Huang, Horn and Casey', 'email': 'info@goodwin-wilson.com', 'web_domain': 'goodwin-wilson.com', 'url': 'http://goodwin-wilson.com', 'vat_number': 'xE025410621', 'employees': {'first_name': 'Kelsey', 'name': 'Kelsey Watson', 'birthdate': '1988-07-11', 'age': 35, 'email': 'danielsmonica@example.org', 'company_email': 'kelsey@turner-lewis.com', 'sex': 'Male'}}\n",
      "{'_id': ObjectId('6637f972264ae30efffb4fcf'), 'name': 'Huang, Horn and Casey', 'email': 'info@goodwin-wilson.com', 'web_domain': 'goodwin-wilson.com', 'url': 'http://goodwin-wilson.com', 'vat_number': 'xE025410621', 'employees': {'first_name': 'Paul', 'name': 'Paul Jenkins', 'birthdate': '1997-11-08', 'age': 26, 'email': 'creyes@example.net', 'company_email': 'paul@johnson.com', 'sex': 'Other'}}\n",
      "{'_id': ObjectId('6637f972264ae30efffb4fcf'), 'name': 'Huang, Horn and Casey', 'email': 'info@goodwin-wilson.com', 'web_domain': 'goodwin-wilson.com', 'url': 'http://goodwin-wilson.com', 'vat_number': 'xE025410621', 'employees': {'first_name': 'Michele', 'name': 'Michele Schmidt', 'birthdate': '2005-07-23', 'age': 18, 'email': 'garciadevon@example.com', 'company_email': 'michele@haynes-hodges.net', 'sex': 'Male'}}\n",
      "{'_id': ObjectId('6637f972264ae30efffb4fcf'), 'name': 'Huang, Horn and Casey', 'email': 'info@goodwin-wilson.com', 'web_domain': 'goodwin-wilson.com', 'url': 'http://goodwin-wilson.com', 'vat_number': 'xE025410621', 'employees': {'first_name': 'Ryan', 'name': 'Ryan Johnson', 'birthdate': '1991-12-04', 'age': 32, 'email': 'donaldhernandez@example.com', 'company_email': 'ryan@white-ramos.biz', 'sex': 'Female'}}\n",
      "{'_id': ObjectId('6637f972264ae30efffb4fcf'), 'name': 'Huang, Horn and Casey', 'email': 'info@goodwin-wilson.com', 'web_domain': 'goodwin-wilson.com', 'url': 'http://goodwin-wilson.com', 'vat_number': 'xE025410621', 'employees': {'first_name': 'Frank', 'name': 'Frank Castillo', 'birthdate': '2003-06-29', 'age': 20, 'email': 'charlesthornton@example.org', 'company_email': 'frank@carroll.com', 'sex': 'Male'}}\n",
      "{'_id': ObjectId('6637f972264ae30efffb4fcf'), 'name': 'Huang, Horn and Casey', 'email': 'info@goodwin-wilson.com', 'web_domain': 'goodwin-wilson.com', 'url': 'http://goodwin-wilson.com', 'vat_number': 'xE025410621', 'employees': {'first_name': 'Rachel', 'name': 'Rachel Robinson', 'birthdate': '1991-11-28', 'age': 32, 'email': 'zzavala@example.net', 'company_email': 'rachel@simmons.net', 'sex': 'Female'}}\n",
      "{'_id': ObjectId('6637f972264ae30efffb4fcf'), 'name': 'Huang, Horn and Casey', 'email': 'info@goodwin-wilson.com', 'web_domain': 'goodwin-wilson.com', 'url': 'http://goodwin-wilson.com', 'vat_number': 'xE025410621', 'employees': {'first_name': 'John', 'name': 'John Flores', 'birthdate': '1993-08-01', 'age': 30, 'email': 'christineschmidt@example.com', 'company_email': 'john@decker.com', 'sex': 'Female'}}\n",
      "{'_id': ObjectId('6637f972264ae30efffb4fcf'), 'name': 'Huang, Horn and Casey', 'email': 'info@goodwin-wilson.com', 'web_domain': 'goodwin-wilson.com', 'url': 'http://goodwin-wilson.com', 'vat_number': 'xE025410621', 'employees': {'first_name': 'Amanda', 'name': 'Amanda Davis', 'birthdate': '1995-01-14', 'age': 29, 'email': 'williambyrd@example.org', 'company_email': 'amanda@gomez-ross.com', 'sex': 'Male'}}\n",
      "{'_id': ObjectId('6637f972264ae30efffb4fcf'), 'name': 'Huang, Horn and Casey', 'email': 'info@goodwin-wilson.com', 'web_domain': 'goodwin-wilson.com', 'url': 'http://goodwin-wilson.com', 'vat_number': 'xE025410621', 'employees': {'first_name': 'Bobby', 'name': 'Bobby Atkinson', 'birthdate': '1991-05-09', 'age': 32, 'email': 'amanda37@example.org', 'company_email': 'bobby@king.net', 'sex': 'Female'}}\n"
     ]
    }
   ],
   "source": [
    "# Q3: For each person in each company born before 1988, update their age to “30”.\n",
    "start_time_q3 = time.time()\n",
    "companies_with_persons_m3.update_many(\n",
    "    {\"employees.birthdate\": {\"$lt\": \"1988-01-01\"}},\n",
    "    {\"$set\": {\"employees.$[elem].age\": 30}},\n",
    "    array_filters=[{\"elem.birthdate\": {\"$lt\": \"1988-01-01\"}}]\n",
    ")\n",
    "end_time_q3 = time.time()\n",
    "\n",
    "pipeline = [\n",
    "    {\"$unwind\": \"$employees\"}, \n",
    "    {\"$match\": {\"employees.birthdate\": {\"$gte\": \"1987-01-01\"}}},\n",
    "    {\"$limit\": 10}\n",
    "]\n",
    "results = companies_with_persons_m3.aggregate(pipeline)\n",
    "\n",
    "for person in results:\n",
    "    print(person) "
   ]
  },
  {
   "cell_type": "code",
   "execution_count": 204,
   "metadata": {},
   "outputs": [
    {
     "name": "stdout",
     "output_type": "stream",
     "text": [
      "Huang, Horn and Casey Company\n",
      "Moran PLC Company\n",
      "Stuart LLC Company\n",
      "Garcia-Williams Company\n",
      "Kennedy-Harvey Company\n",
      "Lewis, Holland and Bailey Company\n",
      "Sharp, Gibson and Lewis Company\n",
      "Harris-Jenkins Company\n",
      "Schneider Inc Company\n",
      "Thompson-Peters Company\n"
     ]
    }
   ],
   "source": [
    "# Q4: Update each company's name to include the word “Company”.\n",
    "start_time_q4 = time.time()\n",
    "companies_with_persons_m3.update_many({}, [{'$set': {'name': {'$concat': ['$name', ' Company']}}}])\n",
    "end_time_q4 = time.time()\n",
    "\n",
    "for company in companies_with_persons_m3.find().limit(10):\n",
    "    print(company['name'])"
   ]
  },
  {
   "cell_type": "code",
   "execution_count": 205,
   "metadata": {},
   "outputs": [
    {
     "name": "stdout",
     "output_type": "stream",
     "text": [
      "Query Q1 execution time (M3): 0.18879914283752441 seconds\n",
      "Query Q2 execution time (M3): 0.11036205291748047 seconds\n",
      "Query Q3 execution time (M3): 0.09303092956542969 seconds\n",
      "Query Q4 execution time (M3): 0.18846511840820312 seconds\n"
     ]
    }
   ],
   "source": [
    "print(f\"Query Q1 execution time (M3): {end_time_q1 - start_time_q1} seconds\")\n",
    "print(f\"Query Q2 execution time (M3): {end_time_q2 - start_time_q2} seconds\")\n",
    "print(f\"Query Q3 execution time (M3): {end_time_q3 - start_time_q3} seconds\")\n",
    "print(f\"Query Q4 execution time (M3): {end_time_q4 - start_time_q4} seconds\")"
   ]
  },
  {
   "cell_type": "markdown",
   "metadata": {},
   "source": [
    "##\n",
    "[Back to Index](#INDEX)"
   ]
  },
  {
   "cell_type": "markdown",
   "metadata": {},
   "source": [
    "# RESULTS AND DISCUSSION"
   ]
  },
  {
   "cell_type": "markdown",
   "metadata": {},
   "source": [
    "[Back to Index](#INDEX)"
   ]
  },
  {
   "cell_type": "markdown",
   "metadata": {},
   "source": [
    "## Query Execution Times per Model"
   ]
  },
  {
   "cell_type": "markdown",
   "metadata": {},
   "source": [
    "[Back to Index](#INDEX)"
   ]
  },
  {
   "cell_type": "markdown",
   "metadata": {},
   "source": [
    "<div align=\"center\">\n",
    "<table>\n",
    "    <thead>\n",
    "        <tr>\n",
    "            <th></th>\n",
    "            <th>Q1</th>\n",
    "            <th>Q2</th>\n",
    "            <th>Q3</th>\n",
    "            <th>Q4</th>\n",
    "        </tr>\n",
    "    </thead>\n",
    "    <tbody>\n",
    "        <tr>\n",
    "            <td><strong>M1</strong></td>\n",
    "            <td> 11.0651 seconds </td>\n",
    "            <td> 26.3386 seconds </td>\n",
    "            <td> 0.4349 seconds </td>\n",
    "            <td> 0.0466 seconds </td>\n",
    "        </tr>\n",
    "        <tr>\n",
    "            <td><strong>M2</strong></td>\n",
    "            <td> 0.5441 seconds </td>\n",
    "            <td> 0.0938 seconds </td>\n",
    "            <td> 0.3366 seconds </td>\n",
    "            <td> 0.9650 seconds </td>\n",
    "        </tr>\n",
    "        <tr>\n",
    "            <td><strong>M3</strong></td>\n",
    "            <td> 0.1644 seconds </td>\n",
    "            <td> 0.1090 seconds </td>\n",
    "            <td> 0.1397 seconds </td>\n",
    "            <td> 0.1477 seconds </td>\n",
    "        </tr>\n",
    "    </tbody>\n",
    "</table>\n",
    "</div>"
   ]
  },
  {
   "cell_type": "markdown",
   "metadata": {},
   "source": [
    "## Performance Evaluation and Discussion"
   ]
  },
  {
   "cell_type": "markdown",
   "metadata": {},
   "source": [
    "[Back to Index](#INDEX)"
   ]
  },
  {
   "cell_type": "markdown",
   "metadata": {},
   "source": [
    "**1. Order queries from best to worst for Q1. Which model performs best? Why?**"
   ]
  },
  {
   "cell_type": "markdown",
   "metadata": {},
   "source": [
    "- Best: M3\n",
    "- Second Best: M2\n",
    "- Worst: M1\n",
    "\n",
    "The Best Model in this case is M3. We can observe a very big gap between M1, which has completely separated documents and, thus, takes a very long time to get the company related to each employee, the the models with embedded data in a single collection. From those, M3 gains an edge because it has to get the company name only once for all the employees in the company. M2, on the other hand, has to get the company name for each employee, which takes some additional time, although not as much more as M1."
   ]
  },
  {
   "cell_type": "markdown",
   "metadata": {},
   "source": [
    "**2. Order queries from best to worst for Q2. Which model performs best? Why?**"
   ]
  },
  {
   "cell_type": "markdown",
   "metadata": {},
   "source": [
    "- Best: M2\n",
    "- Second Best: M3\n",
    "- Worst: M1\n",
    "\n",
    "The Best Model in this case is M2. Again, we can observe a very big gap between M1, which has completely separated documents and, thus, takes a very long time to get the relationship for each employee. The gap is even bigger in this case because, for each company, we have to search through all the employes in order to find those who work in it and then count them. M3 and M2, on the other hand, already have this information embedded in each document that we access. M2 is only slightly better than M3 but the reason is not clear entirely. In M2 we group persons by company and we can aggregate them in a very efficient manner while in M3 we have to count the length of the \"employees\" array for each company, which probably is a bit slower. The difference would only be significant for very large datasets, as even with a dataset of more than 50k documents the difference is less than 2 centiseconds."
   ]
  },
  {
   "cell_type": "markdown",
   "metadata": {},
   "source": [
    "**3. Order queries from worst to best for Q3. Which model performs worst? Why?**"
   ]
  },
  {
   "cell_type": "markdown",
   "metadata": {},
   "source": [
    "- Best: M3\n",
    "- Second Best: M2\n",
    "- Worst: M1\n",
    "\n",
    "The Best Model in this case is M3. The differences in this case are the narrowest out of the 4 queries, but nevertheless the difference between M3 and M1 or M2 can become signficant decently quickly. In this case, both M1 and M2 have to iterate through all the persons documents in order to get to their birthdays and then filter to update age to 30. In this case, M2 could be slightly faster because in M1 there is one additional information section (\"company_id\") before the birthday and age. M3, on the other hand, goes first through the filter so it can already avoid having to iterate through all the documents which don't have employees born before 1988. Additionally, M3 also has between 30 and 100 employees in each document because their personal information is embedded within each company's file. This means it has to enter less files and, thus, saves time on that. As a result, M3 optimizes the updating process a little bit more than M2 and M1, which don't fall as much behind as M1 did in previous queries, but still do perform decidedly worse."
   ]
  },
  {
   "cell_type": "markdown",
   "metadata": {},
   "source": [
    "**4. Order queries from worst to best for Q4. Which model performs worst? Why?**"
   ]
  },
  {
   "cell_type": "markdown",
   "metadata": {},
   "source": [
    "- Best: M1\n",
    "- Second Best: M3\n",
    "- Worst: M2\n",
    "\n",
    "The Best Model in this case is M1. This is the only query where M1 performs better than M2 and M3. The reason is very simple, in this query we update every company's name, so with M1 we minimize the amount of files to access (we only access each company once, as we do as well in M3), but we also minimize the size of each of those files, which speeds up the process a little bit more. M3 also has decent performance because we only have to access one document per company, but the size of each document we have to open is significantly bigger because it contains all the information about all the employees for the company. The worst performance comes from M2 because in this case, to update the company names we have to access the name through each employee, which significantly increases the amount of files we have to open and the amount of times that we have to perform the action of updating the name. For a company of 100 employees in M2 we would be accessing 100 documents for each company while for M1 and M3 we would only access one document."
   ]
  },
  {
   "cell_type": "markdown",
   "metadata": {},
   "source": [
    "**5. What are your conclusions about denormalization or normalization of data in MongoDB? In the case of updates, which offers better performance?**"
   ]
  },
  {
   "cell_type": "markdown",
   "metadata": {},
   "source": [
    "Usually normalization might be better to avoid redundancy, improve data integrity and decrease the size of the dataset but, as we have seen, this comes at the cost that most queries will run slower, some times even MUCH slower. As a result, the choice to normalize the data is far from incidental and should be made with careful consideration of the types of queries that will be usually run. If the most usual type of queries to be run include retrieving information that can only be accessed through referencing one collection to another, then the improvement in data integrity and size has to be really important in order to justify the huge performance loss. On the other hand, if the usual queries only need to retrieve or manipulate information from one collection at a time, then the performance loss might very quickly be compensated otherwise. \n",
    "\n",
    "Additionally, the choice of exactly how to store the data in a non-normalized way or to denormalize it is also not entirely banal, but its repercussions are far less relevant than those of the decision to normalize or not. With one non-normalized system or the other the difference in performance might even be negligible while normalizing can potentially lead to runtimes that are more than 200 times slower.\n",
    "\n",
    "As a final touch, normalization can be a good choice for performance reasons as we saw for query 4, but the circumstances in which this might be the case are very specific. As a result, we would run very quickly into the danger of needing other types of queries which step out of those circumstances and run much slower so the performance gained  by normalization might be negatively compensated by the performance loss in those other queries."
   ]
  },
  {
   "cell_type": "markdown",
   "metadata": {},
   "source": [
    "##\n",
    "[Back to Index](#INDEX)"
   ]
  },
  {
   "cell_type": "markdown",
   "metadata": {},
   "source": [
    "#\n",
    "[Back to Index](#INDEX)"
   ]
  }
 ],
 "metadata": {
  "kernelspec": {
   "display_name": "Python 3",
   "language": "python",
   "name": "python3"
  },
  "language_info": {
   "codemirror_mode": {
    "name": "ipython",
    "version": 3
   },
   "file_extension": ".py",
   "mimetype": "text/x-python",
   "name": "python",
   "nbconvert_exporter": "python",
   "pygments_lexer": "ipython3",
   "version": "3.12.0"
  }
 },
 "nbformat": 4,
 "nbformat_minor": 2
}
